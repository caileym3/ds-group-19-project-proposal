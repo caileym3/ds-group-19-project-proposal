{
 "cells": [
  {
   "cell_type": "markdown",
   "metadata": {},
   "source": [
    "# Project Proposal\n",
    "### Group 19: Aidan Gallant, Alex Hachey, Cailey Murad, Caroline Ruus"
   ]
  },
  {
   "cell_type": "markdown",
   "metadata": {},
   "source": [
    "## [Title]"
   ]
  },
  {
   "cell_type": "markdown",
   "metadata": {},
   "source": [
    "## Introduction\n",
    "- Provide some relevant background information on the topic so that someone unfamiliar with it will be prepared to understand the rest of your proposal\n",
    "- Clearly state the question you will try to answer with your project\n",
    "- Identify and describe the dataset that will be used to answer the question"
   ]
  },
  {
   "cell_type": "markdown",
   "metadata": {},
   "source": [
    "## Preliminary Exploratory Data Analysis\n",
    "- Demonstrate that the dataset can be read from the web into R \n",
    "- Clean and wrangle your data into a tidy format\n",
    "- Using only training data, summarize the data in at least one table (this is exploratory data analysis). (An example of a useful table could be one that reports the number of observations in each class, the means of the predictor variables you plan to use in your analysis and how many rows have missing data.)\n",
    "- Using only training data, visualize the data with at least one plot relevant to the analysis you plan to do (this is exploratory data analysis). (An example of a useful visualization could be one that compares the distributions of each of the predictor variables you plan to use in your analysis.)"
   ]
  },
  {
   "cell_type": "code",
   "execution_count": 31,
   "metadata": {},
   "outputs": [],
   "source": [
    "library(tidyverse)\n",
    "library(repr)\n",
    "library(tidymodels)\n",
    "library(rvest)\n",
    "options(repr.matrix.max.rows = 6)"
   ]
  },
  {
   "cell_type": "code",
   "execution_count": 37,
   "metadata": {},
   "outputs": [
    {
     "ename": "ERROR",
     "evalue": "Error in read_excel(file.path(temp2, \"student-mat\")): could not find function \"read_excel\"\n",
     "output_type": "error",
     "traceback": [
      "Error in read_excel(file.path(temp2, \"student-mat\")): could not find function \"read_excel\"\nTraceback:\n"
     ]
    }
   ],
   "source": [
    "#read data, in tidy format, make into data frame\n",
    "temp <- tempfile()\n",
    "temp2 <- tempfile()\n",
    "\n",
    "url <- \"https://archive.ics.uci.edu/ml/machine-learning-databases/00320/student.zip\"\n",
    "download.file(url, temp)\n",
    "\n",
    "unzip(zipfile = temp, exdir = temp2)\n",
    "\n",
    "student <- read_excel(file.path(temp2, \"student-mat\"))\n",
    "unlink(c(temp, temp2))\n",
    "student\n"
   ]
  },
  {
   "cell_type": "code",
   "execution_count": 33,
   "metadata": {},
   "outputs": [
    {
     "name": "stderr",
     "output_type": "stream",
     "text": [
      "Parsed with column specification:\n",
      "cols(\n",
      "  .default = col_character(),\n",
      "  age = \u001b[32mcol_double()\u001b[39m,\n",
      "  Medu = \u001b[32mcol_double()\u001b[39m,\n",
      "  Fedu = \u001b[32mcol_double()\u001b[39m,\n",
      "  traveltime = \u001b[32mcol_double()\u001b[39m,\n",
      "  studytime = \u001b[32mcol_double()\u001b[39m,\n",
      "  failures = \u001b[32mcol_double()\u001b[39m,\n",
      "  famrel = \u001b[32mcol_double()\u001b[39m,\n",
      "  freetime = \u001b[32mcol_double()\u001b[39m,\n",
      "  goout = \u001b[32mcol_double()\u001b[39m,\n",
      "  Dalc = \u001b[32mcol_double()\u001b[39m,\n",
      "  Walc = \u001b[32mcol_double()\u001b[39m,\n",
      "  health = \u001b[32mcol_double()\u001b[39m,\n",
      "  absences = \u001b[32mcol_double()\u001b[39m,\n",
      "  G1 = \u001b[32mcol_double()\u001b[39m,\n",
      "  G2 = \u001b[32mcol_double()\u001b[39m,\n",
      "  G3 = \u001b[32mcol_double()\u001b[39m\n",
      ")\n",
      "\n",
      "See spec(...) for full column specifications.\n",
      "\n"
     ]
    },
    {
     "data": {
      "text/html": [
       "<table>\n",
       "<caption>A tibble: 395 × 5</caption>\n",
       "<thead>\n",
       "\t<tr><th scope=col>studytime</th><th scope=col>absences</th><th scope=col>G1</th><th scope=col>G2</th><th scope=col>G3</th></tr>\n",
       "\t<tr><th scope=col>&lt;dbl&gt;</th><th scope=col>&lt;dbl&gt;</th><th scope=col>&lt;dbl&gt;</th><th scope=col>&lt;dbl&gt;</th><th scope=col>&lt;dbl&gt;</th></tr>\n",
       "</thead>\n",
       "<tbody>\n",
       "\t<tr><td>2</td><td> 6</td><td>5</td><td>6</td><td> 6</td></tr>\n",
       "\t<tr><td>2</td><td> 4</td><td>5</td><td>5</td><td> 6</td></tr>\n",
       "\t<tr><td>2</td><td>10</td><td>7</td><td>8</td><td>10</td></tr>\n",
       "\t<tr><td>⋮</td><td>⋮</td><td>⋮</td><td>⋮</td><td>⋮</td></tr>\n",
       "\t<tr><td>1</td><td>3</td><td>10</td><td> 8</td><td> 7</td></tr>\n",
       "\t<tr><td>1</td><td>0</td><td>11</td><td>12</td><td>10</td></tr>\n",
       "\t<tr><td>1</td><td>5</td><td> 8</td><td> 9</td><td> 9</td></tr>\n",
       "</tbody>\n",
       "</table>\n"
      ],
      "text/latex": [
       "A tibble: 395 × 5\n",
       "\\begin{tabular}{lllll}\n",
       " studytime & absences & G1 & G2 & G3\\\\\n",
       " <dbl> & <dbl> & <dbl> & <dbl> & <dbl>\\\\\n",
       "\\hline\n",
       "\t 2 &  6 & 5 & 6 &  6\\\\\n",
       "\t 2 &  4 & 5 & 5 &  6\\\\\n",
       "\t 2 & 10 & 7 & 8 & 10\\\\\n",
       "\t ⋮ & ⋮ & ⋮ & ⋮ & ⋮\\\\\n",
       "\t 1 & 3 & 10 &  8 &  7\\\\\n",
       "\t 1 & 0 & 11 & 12 & 10\\\\\n",
       "\t 1 & 5 &  8 &  9 &  9\\\\\n",
       "\\end{tabular}\n"
      ],
      "text/markdown": [
       "\n",
       "A tibble: 395 × 5\n",
       "\n",
       "| studytime &lt;dbl&gt; | absences &lt;dbl&gt; | G1 &lt;dbl&gt; | G2 &lt;dbl&gt; | G3 &lt;dbl&gt; |\n",
       "|---|---|---|---|---|\n",
       "| 2 |  6 | 5 | 6 |  6 |\n",
       "| 2 |  4 | 5 | 5 |  6 |\n",
       "| 2 | 10 | 7 | 8 | 10 |\n",
       "| ⋮ | ⋮ | ⋮ | ⋮ | ⋮ |\n",
       "| 1 | 3 | 10 |  8 |  7 |\n",
       "| 1 | 0 | 11 | 12 | 10 |\n",
       "| 1 | 5 |  8 |  9 |  9 |\n",
       "\n"
      ],
      "text/plain": [
       "    studytime absences G1 G2 G3\n",
       "1   2          6       5  6   6\n",
       "2   2          4       5  5   6\n",
       "3   2         10       7  8  10\n",
       "⋮   ⋮         ⋮        ⋮  ⋮  ⋮ \n",
       "393 1         3        10  8  7\n",
       "394 1         0        11 12 10\n",
       "395 1         5         8  9  9"
      ]
     },
     "metadata": {},
     "output_type": "display_data"
    }
   ],
   "source": [
    "student <- read_delim(\"data/student-mat.csv\", delim = \";\")\n",
    "student <- student %>%\n",
    "    as_tibble() %>%\n",
    "    select (studytime, absences, G1, G2, G3)\n",
    "student\n"
   ]
  },
  {
   "cell_type": "code",
   "execution_count": 8,
   "metadata": {},
   "outputs": [
    {
     "data": {
      "text/html": [
       "<table>\n",
       "<caption>A tibble: 297 × 5</caption>\n",
       "<thead>\n",
       "\t<tr><th scope=col>studytime</th><th scope=col>absences</th><th scope=col>G1</th><th scope=col>G2</th><th scope=col>G3</th></tr>\n",
       "\t<tr><th scope=col>&lt;dbl&gt;</th><th scope=col>&lt;dbl&gt;</th><th scope=col>&lt;dbl&gt;</th><th scope=col>&lt;dbl&gt;</th><th scope=col>&lt;dbl&gt;</th></tr>\n",
       "</thead>\n",
       "<tbody>\n",
       "\t<tr><td>2</td><td> 6</td><td>5</td><td>6</td><td> 6</td></tr>\n",
       "\t<tr><td>2</td><td> 4</td><td>5</td><td>5</td><td> 6</td></tr>\n",
       "\t<tr><td>2</td><td>10</td><td>7</td><td>8</td><td>10</td></tr>\n",
       "\t<tr><td>⋮</td><td>⋮</td><td>⋮</td><td>⋮</td><td>⋮</td></tr>\n",
       "\t<tr><td>1</td><td>3</td><td>14</td><td>16</td><td>16</td></tr>\n",
       "\t<tr><td>1</td><td>3</td><td>10</td><td> 8</td><td> 7</td></tr>\n",
       "\t<tr><td>1</td><td>0</td><td>11</td><td>12</td><td>10</td></tr>\n",
       "</tbody>\n",
       "</table>\n"
      ],
      "text/latex": [
       "A tibble: 297 × 5\n",
       "\\begin{tabular}{lllll}\n",
       " studytime & absences & G1 & G2 & G3\\\\\n",
       " <dbl> & <dbl> & <dbl> & <dbl> & <dbl>\\\\\n",
       "\\hline\n",
       "\t 2 &  6 & 5 & 6 &  6\\\\\n",
       "\t 2 &  4 & 5 & 5 &  6\\\\\n",
       "\t 2 & 10 & 7 & 8 & 10\\\\\n",
       "\t ⋮ & ⋮ & ⋮ & ⋮ & ⋮\\\\\n",
       "\t 1 & 3 & 14 & 16 & 16\\\\\n",
       "\t 1 & 3 & 10 &  8 &  7\\\\\n",
       "\t 1 & 0 & 11 & 12 & 10\\\\\n",
       "\\end{tabular}\n"
      ],
      "text/markdown": [
       "\n",
       "A tibble: 297 × 5\n",
       "\n",
       "| studytime &lt;dbl&gt; | absences &lt;dbl&gt; | G1 &lt;dbl&gt; | G2 &lt;dbl&gt; | G3 &lt;dbl&gt; |\n",
       "|---|---|---|---|---|\n",
       "| 2 |  6 | 5 | 6 |  6 |\n",
       "| 2 |  4 | 5 | 5 |  6 |\n",
       "| 2 | 10 | 7 | 8 | 10 |\n",
       "| ⋮ | ⋮ | ⋮ | ⋮ | ⋮ |\n",
       "| 1 | 3 | 14 | 16 | 16 |\n",
       "| 1 | 3 | 10 |  8 |  7 |\n",
       "| 1 | 0 | 11 | 12 | 10 |\n",
       "\n"
      ],
      "text/plain": [
       "    studytime absences G1 G2 G3\n",
       "1   2          6       5  6   6\n",
       "2   2          4       5  5   6\n",
       "3   2         10       7  8  10\n",
       "⋮   ⋮         ⋮        ⋮  ⋮  ⋮ \n",
       "295 1         3        14 16 16\n",
       "296 1         3        10  8  7\n",
       "297 1         0        11 12 10"
      ]
     },
     "metadata": {},
     "output_type": "display_data"
    }
   ],
   "source": [
    "# split data into testing and training data\n",
    "\n",
    "set.seed(3456) \n",
    "\n",
    "student_split <- initial_split(student, prop = 0.75, strata = studytime)  \n",
    "student_train <- training(student_split)\n",
    "student_test <- testing(student_split)\n",
    "\n",
    "student_train"
   ]
  },
  {
   "cell_type": "code",
   "execution_count": 9,
   "metadata": {},
   "outputs": [
    {
     "name": "stderr",
     "output_type": "stream",
     "text": [
      "Warning message in is.na(data):\n",
      "“is.na() applied to non-(list or vector) of type 'closure'”\n"
     ]
    },
    {
     "data": {
      "text/html": [
       "0"
      ],
      "text/latex": [
       "0"
      ],
      "text/markdown": [
       "0"
      ],
      "text/plain": [
       "[1] 0"
      ]
     },
     "metadata": {},
     "output_type": "display_data"
    }
   ],
   "source": [
    "# number of observations in each class, \n",
    "# the means of the predictor variables you plan to use in your analysis, \n",
    "# how many rows have missing data\n",
    "\n",
    "sum(is.na(data))"
   ]
  },
  {
   "cell_type": "code",
   "execution_count": 25,
   "metadata": {},
   "outputs": [
    {
     "data": {
      "image/png": "[encoded data removed]",
      "text/plain": [
       "plot without title"
      ]
     },
     "metadata": {
      "image/png": {
       "height": 420,
       "width": 420
      }
     },
     "output_type": "display_data"
    },
    {
     "data": {
      "image/png": "[encoded data removed]",
      "text/plain": [
       "plot without title"
      ]
     },
     "metadata": {
      "image/png": {
       "height": 420,
       "width": 420
      }
     },
     "output_type": "display_data"
    }
   ],
   "source": [
    "grades_plot_1 <- ggplot(student_train,aes(x = G3, y = G1))+\n",
    "geom_point()+\n",
    "labs(x = \"Final Grades\",y = \"Term 1 Grades\")\n",
    "\n",
    "grades_plot_2 <- ggplot(student_train,aes(x = G3, y = G2))+\n",
    "geom_point()+\n",
    "labs(x = \"Final Grades\",y = \"Term 2 Grades\")\n",
    "\n",
    "grades_plot_1\n",
    "\n",
    "grades_plot_2"
   ]
  },
  {
   "cell_type": "markdown",
   "metadata": {},
   "source": [
    "## Methods\n",
    "- Explain how you will conduct either your data analysis and which variables/columns you will use.\n",
    "  (Note - you do not need to use all variables/columns that exist in the raw data set. In fact, that's often not a good    idea. For each variable think: is this a useful variable for prediction?)\n",
    "- Describe at least one way that you will visualize the results\n"
   ]
  },
  {
   "cell_type": "markdown",
   "metadata": {},
   "source": [
    "## Expected Outcomes and Significance\n",
    "- What do you expect to find?\n",
    "- What impact could such findings have?\n",
    "- What future questions could this lead to?\n"
   ]
  },
  {
   "cell_type": "markdown",
   "metadata": {},
   "source": [
    "### Notes:\n",
    "- predict G3 using G1, G2, studytime, absences"
   ]
  },
  {
   "cell_type": "code",
   "execution_count": null,
   "metadata": {},
   "outputs": [],
   "source": []
  }
 ],
 "metadata": {
  "kernelspec": {
   "display_name": "R",
   "language": "R",
   "name": "ir"
  },
  "language_info": {
   "codemirror_mode": "r",
   "file_extension": ".r",
   "mimetype": "text/x-r-source",
   "name": "R",
   "pygments_lexer": "r",
   "version": "4.0.0"
  }
 },
 "nbformat": 4,
 "nbformat_minor": 4
}
